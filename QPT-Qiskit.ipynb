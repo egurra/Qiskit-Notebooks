{
 "cells": [
  {
   "cell_type": "code",
   "execution_count": 2,
   "metadata": {},
   "outputs": [],
   "source": [
    "# Needed for functions\n",
    "import numpy as np\n",
    "import time\n",
    "\n",
    "# Import QISKit classes\n",
    "import qiskit\n",
    "from copy import deepcopy\n",
    "from qiskit import *\n",
    "from qiskit.quantum_info import state_fidelity, process_fidelity, Chi, Choi, PTM, SuperOp\n",
    "from qiskit.tools.qi.qi import outer\n",
    "\n",
    "# Tomography functions\n",
    "from qiskit.ignis.verification.tomography import process_tomography_circuits, ProcessTomographyFitter"
   ]
  },
  {
   "cell_type": "markdown",
   "metadata": {},
   "source": [
    "The following code displays the PTM process matrix for the 1-qubit case. Additonally, we see that 12 circuits were used which goes along with the idea that the number of measurements needed to build a process matrix goes $d^{4} - d^{2}$ where d is the number of dimensions of the Hilbert Space."
   ]
  },
  {
   "cell_type": "code",
   "execution_count": 3,
   "metadata": {},
   "outputs": [
    {
     "name": "stdout",
     "output_type": "stream",
     "text": [
      "PTM: [[ 1.+0.j  0.+0.j  0.+0.j  0.+0.j]\n",
      " [ 0.+0.j  0.+0.j  0.+0.j  1.+0.j]\n",
      " [ 0.+0.j  0.+0.j -1.+0.j  0.+0.j]\n",
      " [ 0.+0.j  1.+0.j  0.+0.j  0.+0.j]]\n",
      "Superop: [[ 0.5+0.j  0.5+0.j  0.5+0.j  0.5+0.j]\n",
      " [ 0.5+0.j -0.5+0.j  0.5+0.j -0.5+0.j]\n",
      " [ 0.5+0.j  0.5+0.j -0.5-0.j -0.5-0.j]\n",
      " [ 0.5+0.j -0.5+0.j -0.5-0.j  0.5+0.j]]\n"
     ]
    },
    {
     "data": {
      "text/plain": [
       "[<qiskit.circuit.quantumcircuit.QuantumCircuit at 0x1dcad7ff3c8>,\n",
       " <qiskit.circuit.quantumcircuit.QuantumCircuit at 0x1dcad7ff400>,\n",
       " <qiskit.circuit.quantumcircuit.QuantumCircuit at 0x1dcad7ffa20>,\n",
       " <qiskit.circuit.quantumcircuit.QuantumCircuit at 0x1dcad7ffc50>,\n",
       " <qiskit.circuit.quantumcircuit.QuantumCircuit at 0x1dcad7ffe80>,\n",
       " <qiskit.circuit.quantumcircuit.QuantumCircuit at 0x1dcad7f41d0>,\n",
       " <qiskit.circuit.quantumcircuit.QuantumCircuit at 0x1dcad7f44a8>,\n",
       " <qiskit.circuit.quantumcircuit.QuantumCircuit at 0x1dcad7f47b8>,\n",
       " <qiskit.circuit.quantumcircuit.QuantumCircuit at 0x1dcad80a160>,\n",
       " <qiskit.circuit.quantumcircuit.QuantumCircuit at 0x1dcad80a390>,\n",
       " <qiskit.circuit.quantumcircuit.QuantumCircuit at 0x1dcad80a5f8>,\n",
       " <qiskit.circuit.quantumcircuit.QuantumCircuit at 0x1dcad80a7f0>]"
      ]
     },
     "execution_count": 3,
     "metadata": {},
     "output_type": "execute_result"
    }
   ],
   "source": [
    "# Process tomography of a Hadamard gate\n",
    "q = QuantumRegister(1)\n",
    "circ = QuantumCircuit(q)\n",
    "circ.h(q[0])\n",
    "\n",
    "# Run circuit on unitary simulator to find ideal unitary\n",
    "job = qiskit.execute(circ, Aer.get_backend('unitary_simulator'))\n",
    "ideal_unitary = job.result().get_unitary(circ)\n",
    "# convert to Choi-matrix in column-major convention\n",
    "choi_ideal = Choi(outer(ideal_unitary.ravel(order='F')))\n",
    "chi_ideal = Chi(choi_ideal)\n",
    "ptm_ideal = PTM(choi_ideal)\n",
    "superop_ideal = SuperOp(choi_ideal)\n",
    "# Generate process tomography circuits and run on qasm simulator\n",
    "qpt_circs = process_tomography_circuits(circ, q)\n",
    "job = qiskit.execute(qpt_circs, Aer.get_backend('qasm_simulator'), shots=100)\n",
    "\n",
    "# Extract tomography data so that counts are indexed by measurement configuration\n",
    "qpt_tomo = ProcessTomographyFitter(job.result(), qpt_circs)\n",
    "#print(choi_ideal)\n",
    "#print(chi_ideal)\n",
    "print('PTM:', ptm_ideal.data)\n",
    "print('Superop:', superop_ideal.data)\n",
    "qpt_tomo.set_measure_basis('Pauli')\n",
    "qpt_circs"
   ]
  },
  {
   "cell_type": "code",
   "execution_count": 5,
   "metadata": {},
   "outputs": [],
   "source": [
    "def getUnitary(circ):\n",
    "    job = execute(circ, backend = BasicAer.get_backend('unitary_simulator'))\n",
    "    return job.result().get_unitary(circ, decimals=3)"
   ]
  },
  {
   "cell_type": "code",
   "execution_count": 6,
   "metadata": {},
   "outputs": [],
   "source": [
    "#Qiskit Uses the pauli operators / sqrt(2) as basis vectors\n",
    "def pauliDict():\n",
    "    q = QuantumRegister(1)\n",
    "    c = ClassicalRegister(1)\n",
    "    circ = QuantumCircuit(q,c)\n",
    "\n",
    "    pauli = {}\n",
    "    \n",
    "    I = getUnitary(circ)\n",
    "    pauli['I'] = I / 2**(1/2)\n",
    "    \n",
    "    circX = deepcopy(circ)\n",
    "    circX.x(0)\n",
    "    X = getUnitary(circX)\n",
    "    pauli['X'] = X / 2**(1/2)\n",
    "\n",
    "    circY = deepcopy(circ)\n",
    "    circY.y(0)\n",
    "    Y = getUnitary(circY)\n",
    "    pauli['Y'] = Y / 2**(1/2)\n",
    "\n",
    "    circZ = deepcopy(circ)\n",
    "    circZ.z(0)\n",
    "    Z = getUnitary(circZ)\n",
    "    pauli['Z'] = Z / 2**(1/2)\n",
    "    \n",
    "    return pauli"
   ]
  },
  {
   "cell_type": "markdown",
   "metadata": {},
   "source": [
    "The following function verifies the equation for a single qubit:\n",
    "$$\\rho' = \\Sigma_{mn} \\chi_{mn} \\sigma_{m}\\rho\\sigma_{n}$$\n",
    "\n"
   ]
  },
  {
   "cell_type": "code",
   "execution_count": 7,
   "metadata": {},
   "outputs": [
    {
     "name": "stdout",
     "output_type": "stream",
     "text": [
      "[[0.5+0.j 0.5+0.j]\n",
      " [0.5+0.j 0.5+0.j]]\n",
      "[[ 0.5+0.j -0.5+0.j]\n",
      " [-0.5+0.j  0.5+0.j]]\n",
      "[[1.+0.j 0.+0.j]\n",
      " [0.+0.j 0.+0.j]]\n",
      "[[0.5+0.j  0. +0.5j]\n",
      " [0. -0.5j 0.5+0.j ]]\n"
     ]
    }
   ],
   "source": [
    "def verifyChi(circ):\n",
    "    #Get the chi Matrix QISKIT produces for a given circuit\n",
    "    job = qiskit.execute(circ, Aer.get_backend('unitary_simulator'))\n",
    "    ideal_unitary = job.result().get_unitary(circ)\n",
    "    choi_ideal = Choi(outer(ideal_unitary.ravel(order='F')))\n",
    "    chi = Chi(choi_ideal).data\n",
    "    \n",
    "    #Organizes Pauli Matrices in a list\n",
    "    pauli = list(pauliDict().values())\n",
    "    \n",
    "    #Basis Vectors for Single Qubit \n",
    "    rho_0 = (pauli[0] + pauli[3])*(2**(1/2)/2)\n",
    "    rho_1 = (pauli[0] - pauli[3])*(2**(1/2)/2)\n",
    "    rho_x = (pauli[0] + pauli[1])*(2**(1/2)/2)\n",
    "    rho_y = (pauli[0] + pauli[2])*(2**(1/2)/2)\n",
    "    basis = [rho_0, rho_1, rho_x, rho_y]\n",
    "    \n",
    "    rho_0_p = 0\n",
    "    rho_1_p = 0\n",
    "    rho_x_p = 0\n",
    "    rho_y_p = 0\n",
    "    rho_p = [rho_0_p, rho_1_p, rho_x_p, rho_y_p]\n",
    "    #calculate the resulting density matrices\n",
    "    for a in range (4):\n",
    "        for b in range(4):\n",
    "            rho_0_p += chi[a][b]*pauli[a]@basis[0]@pauli[b] \n",
    "            \n",
    "            rho_1_p += chi[a][b]*pauli[a]@basis[1]@pauli[b] \n",
    "            \n",
    "            rho_x_p += chi[a][b]*pauli[a]@basis[2]@pauli[b] \n",
    "            \n",
    "            rho_y_p += chi[a][b]*pauli[a]@basis[3]@pauli[b] \n",
    "    print(rho_0_p)\n",
    "    print(rho_1_p)\n",
    "    print(rho_x_p)\n",
    "    print(rho_y_p)\n",
    "    \n",
    "q = QuantumRegister(1)\n",
    "circ = QuantumCircuit(q)\n",
    "circ.h(q[0])\n",
    "\n",
    "verifyChi(circ)\n",
    "            "
   ]
  },
  {
   "cell_type": "code",
   "execution_count": null,
   "metadata": {},
   "outputs": [],
   "source": []
  }
 ],
 "metadata": {
  "kernelspec": {
   "display_name": "Python 3",
   "language": "python",
   "name": "python3"
  },
  "language_info": {
   "codemirror_mode": {
    "name": "ipython",
    "version": 3
   },
   "file_extension": ".py",
   "mimetype": "text/x-python",
   "name": "python",
   "nbconvert_exporter": "python",
   "pygments_lexer": "ipython3",
   "version": "3.7.3"
  }
 },
 "nbformat": 4,
 "nbformat_minor": 2
}
